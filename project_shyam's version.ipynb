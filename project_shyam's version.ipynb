{
 "cells": [
  {
   "cell_type": "code",
   "execution_count": 4,
   "metadata": {},
   "outputs": [
    {
     "name": "stdout",
     "output_type": "stream",
     "text": [
      "  experiment_id             protein_name uniprot_id pdb_id chain  position  \\\n",
      "0      LL000001  Haloalkane dehalogenase     P59336   1CQW     A       245   \n",
      "1      LL000002  Haloalkane dehalogenase     P59336   1CQW     A        95   \n",
      "2      LL000004  Haloalkane dehalogenase     P59336   1CQW     A       176   \n",
      "3      LL000005  Haloalkane dehalogenase     P59336   1CQW     A       171   \n",
      "4      LL000006  Haloalkane dehalogenase     P59336   1CQW     A       148   \n",
      "\n",
      "  wild_type mutation  ddG  dTm  ...  technique  technique_details  pH    tm  \\\n",
      "0         V        L  NaN  2.1  ...        NaN                NaN NaN  52.5   \n",
      "1         L        V  NaN -0.4  ...        NaN                NaN NaN  50.0   \n",
      "2         C        F  NaN  5.2  ...        NaN                NaN NaN  55.6   \n",
      "3         G        Q  NaN  3.1  ...        NaN                NaN NaN  53.5   \n",
      "4         T        L  NaN  1.1  ...        NaN                NaN NaN  51.5   \n",
      "\n",
      "   notes  publication_doi  publication_pubmed  hsw_job_id datasets  \\\n",
      "0    NaN              NaN                 NaN      xfyu58      NaN   \n",
      "1    NaN              NaN                 NaN      xfyu58      NaN   \n",
      "2    NaN              NaN                 NaN      xfyu58      NaN   \n",
      "3    NaN              NaN                 NaN      xfyu58      NaN   \n",
      "4    NaN              NaN                 NaN      xfyu58      NaN   \n",
      "\n",
      "                                            sequence  \n",
      "0  MSEIGTGFPFDPHYVEVLGERMHYVDVGPRDGTPVLFLHGNPTSSY...  \n",
      "1  MSEIGTGFPFDPHYVEVLGERMHYVDVGPRDGTPVLFLHGNPTSSY...  \n",
      "2  MSEIGTGFPFDPHYVEVLGERMHYVDVGPRDGTPVLFLHGNPTSSY...  \n",
      "3  MSEIGTGFPFDPHYVEVLGERMHYVDVGPRDGTPVLFLHGNPTSSY...  \n",
      "4  MSEIGTGFPFDPHYVEVLGERMHYVDVGPRDGTPVLFLHGNPTSSY...  \n",
      "\n",
      "[5 rows x 35 columns]\n"
     ]
    },
    {
     "name": "stderr",
     "output_type": "stream",
     "text": [
      "/var/folders/ll/twvrb4wd7c971rnfchtx6wt40000gn/T/ipykernel_75345/1620435626.py:4: DtypeWarning: Columns (23,24,25,26,29) have mixed types. Specify dtype option on import or set low_memory=False.\n",
      "  df = pd.read_csv(\"data/fireprotdb_results.csv\")\n"
     ]
    }
   ],
   "source": [
    "import pandas as pd\n",
    "\n",
    "# Load the dataset (change path if needed)\n",
    "df = pd.read_csv(\"data/fireprotdb_results.csv\")\n",
    "\n",
    "# Preview the data\n",
    "print(df.head())"
   ]
  },
  {
   "cell_type": "code",
   "execution_count": 5,
   "metadata": {},
   "outputs": [
    {
     "name": "stdout",
     "output_type": "stream",
     "text": [
      "Index(['experiment_id', 'protein_name', 'uniprot_id', 'pdb_id', 'chain',\n",
      "       'position', 'wild_type', 'mutation', 'ddG', 'dTm', 'is_curated', 'type',\n",
      "       'derived_type', 'interpro_families', 'conservation', 'is_essential',\n",
      "       'correlated_positions', 'is_back_to_consensus', 'secondary_structure',\n",
      "       'asa', 'is_in_catalytic_pocket', 'is_in_tunnel_bottleneck', 'b_factor',\n",
      "       'method', 'method_details', 'technique', 'technique_details', 'pH',\n",
      "       'tm', 'notes', 'publication_doi', 'publication_pubmed', 'hsw_job_id',\n",
      "       'datasets', 'sequence'],\n",
      "      dtype='object')\n"
     ]
    }
   ],
   "source": [
    "print(df.columns)"
   ]
  },
  {
   "cell_type": "code",
   "execution_count": 8,
   "metadata": {},
   "outputs": [
    {
     "data": {
      "application/vnd.microsoft.datawrangler.viewer.v0+json": {
       "columns": [
        {
         "name": "index",
         "rawType": "int64",
         "type": "integer"
        },
        {
         "name": "protein_name",
         "rawType": "object",
         "type": "string"
        },
        {
         "name": "count",
         "rawType": "int64",
         "type": "integer"
        }
       ],
       "conversionMethod": "pd.DataFrame",
       "ref": "3f6e6fa3-7a52-4d66-96d1-4d8ea8c86a2d",
       "rows": [
        [
         "0",
         "Subtilisin-chymotrypsin inhibitor-2A",
         "12276"
        ],
        [
         "1",
         "Tyrosine-protein kinase Fyn",
         "2488"
        ],
        [
         "2",
         "Halohydrin dehalogenase",
         "2480"
        ],
        [
         "3",
         "ADHA",
         "2404"
        ],
        [
         "4",
         "Immunoglobulin G-binding protein G",
         "2220"
        ],
        [
         "5",
         "Thermonuclease",
         "2123"
        ],
        [
         "6",
         "Tryptophan synthase alpha chain",
         "1978"
        ],
        [
         "7",
         "10 kDa chaperonin",
         "1764"
        ],
        [
         "8",
         "Azurin",
         "1712"
        ],
        [
         "9",
         "30S ribosomal protein S6",
         "1552"
        ],
        [
         "10",
         "Endolysin",
         "1518"
        ],
        [
         "11",
         "Cellular tumor antigen p53",
         "1250"
        ],
        [
         "12",
         "Cold shock protein CspB",
         "969"
        ],
        [
         "13",
         "DNA-Binding protein G5P",
         "964"
        ],
        [
         "14",
         "Guanyl-specific ribonuclease Sa",
         "936"
        ],
        [
         "15",
         "Aspartate aminotransferase family protein",
         "844"
        ],
        [
         "16",
         "Ribonuclease",
         "751"
        ],
        [
         "17",
         "Peptidyl-prolyl cis-trans isomerase FKBP1A",
         "728"
        ],
        [
         "18",
         "Lysozyme C",
         "726"
        ],
        [
         "19",
         "Glutamate dehydrogenase",
         "720"
        ],
        [
         "20",
         "Insulin",
         "720"
        ],
        [
         "21",
         "Subtilisin inhibitor",
         "652"
        ],
        [
         "22",
         "Transcriptional repressor arc",
         "620"
        ],
        [
         "23",
         "Cytochrome c isoform 1",
         "568"
        ],
        [
         "24",
         "Peptidyl-prolyl cis-trans isomerase NIMA-interacting 1",
         "464"
        ],
        [
         "25",
         "Ribonuclease HI",
         "385"
        ],
        [
         "26",
         "Flavodoxin",
         "371"
        ],
        [
         "27",
         "Aliphatic amidase",
         "360"
        ],
        [
         "28",
         "Superoxide dismutase [Mn], mitochondrial",
         "336"
        ],
        [
         "29",
         "Toxin CcdB",
         "336"
        ],
        [
         "30",
         "Alpha-lactalbumin",
         "314"
        ],
        [
         "31",
         "Dihydrofolate reductase",
         "282"
        ],
        [
         "32",
         "Aspartate aminotransferase",
         "276"
        ],
        [
         "33",
         "50S ribosomal protein L9",
         "272"
        ],
        [
         "34",
         "Myoglobin",
         "233"
        ],
        [
         "35",
         "Cyclin-dependent kinases regulatory subunit",
         "224"
        ],
        [
         "36",
         "Bacteriorhodopsin",
         "216"
        ],
        [
         "37",
         "Guanyl-specific ribonuclease T1",
         "207"
        ],
        [
         "38",
         "Ribonuclease pancreatic",
         "207"
        ],
        [
         "39",
         "Adrenodoxin, mitochondrial",
         "192"
        ],
        [
         "40",
         "Beta-glucosidase B",
         "181"
        ],
        [
         "41",
         "Regulatory protein rop",
         "176"
        ],
        [
         "42",
         "Pancreatic trypsin inhibitor",
         "171"
        ],
        [
         "43",
         "Fructose-bisphosphate aldolase A",
         "160"
        ],
        [
         "44",
         "Spectrin alpha chain, non-erythrocytic 1",
         "150"
        ],
        [
         "45",
         "Maltose/maltodextrin-binding periplasmic protein",
         "135"
        ],
        [
         "46",
         "Cyclin-dependent kinases regulatory subunit 1",
         "128"
        ],
        [
         "47",
         "NADP-dependent isopropanol dehydrogenase",
         "128"
        ],
        [
         "48",
         "Regulatory protein cro",
         "124"
        ],
        [
         "49",
         "Malate dehydrogenase",
         "112"
        ]
       ],
       "shape": {
        "columns": 2,
        "rows": 210
       }
      },
      "text/html": [
       "<div>\n",
       "<style scoped>\n",
       "    .dataframe tbody tr th:only-of-type {\n",
       "        vertical-align: middle;\n",
       "    }\n",
       "\n",
       "    .dataframe tbody tr th {\n",
       "        vertical-align: top;\n",
       "    }\n",
       "\n",
       "    .dataframe thead th {\n",
       "        text-align: right;\n",
       "    }\n",
       "</style>\n",
       "<table border=\"1\" class=\"dataframe\">\n",
       "  <thead>\n",
       "    <tr style=\"text-align: right;\">\n",
       "      <th></th>\n",
       "      <th>protein_name</th>\n",
       "      <th>count</th>\n",
       "    </tr>\n",
       "  </thead>\n",
       "  <tbody>\n",
       "    <tr>\n",
       "      <th>0</th>\n",
       "      <td>Subtilisin-chymotrypsin inhibitor-2A</td>\n",
       "      <td>12276</td>\n",
       "    </tr>\n",
       "    <tr>\n",
       "      <th>1</th>\n",
       "      <td>Tyrosine-protein kinase Fyn</td>\n",
       "      <td>2488</td>\n",
       "    </tr>\n",
       "    <tr>\n",
       "      <th>2</th>\n",
       "      <td>Halohydrin dehalogenase</td>\n",
       "      <td>2480</td>\n",
       "    </tr>\n",
       "    <tr>\n",
       "      <th>3</th>\n",
       "      <td>ADHA</td>\n",
       "      <td>2404</td>\n",
       "    </tr>\n",
       "    <tr>\n",
       "      <th>4</th>\n",
       "      <td>Immunoglobulin G-binding protein G</td>\n",
       "      <td>2220</td>\n",
       "    </tr>\n",
       "    <tr>\n",
       "      <th>...</th>\n",
       "      <td>...</td>\n",
       "      <td>...</td>\n",
       "    </tr>\n",
       "    <tr>\n",
       "      <th>205</th>\n",
       "      <td>S-adenosylmethionine synthase isoform type-1</td>\n",
       "      <td>1</td>\n",
       "    </tr>\n",
       "    <tr>\n",
       "      <th>206</th>\n",
       "      <td>Non-specific lipid-transfer protein</td>\n",
       "      <td>1</td>\n",
       "    </tr>\n",
       "    <tr>\n",
       "      <th>207</th>\n",
       "      <td>Tetracycline repressor protein class D</td>\n",
       "      <td>1</td>\n",
       "    </tr>\n",
       "    <tr>\n",
       "      <th>208</th>\n",
       "      <td>Hydrolase</td>\n",
       "      <td>1</td>\n",
       "    </tr>\n",
       "    <tr>\n",
       "      <th>209</th>\n",
       "      <td>High-potential iron-sulfur protein isozyme I</td>\n",
       "      <td>1</td>\n",
       "    </tr>\n",
       "  </tbody>\n",
       "</table>\n",
       "<p>210 rows × 2 columns</p>\n",
       "</div>"
      ],
      "text/plain": [
       "                                     protein_name  count\n",
       "0            Subtilisin-chymotrypsin inhibitor-2A  12276\n",
       "1                     Tyrosine-protein kinase Fyn   2488\n",
       "2                         Halohydrin dehalogenase   2480\n",
       "3                                            ADHA   2404\n",
       "4              Immunoglobulin G-binding protein G   2220\n",
       "..                                            ...    ...\n",
       "205  S-adenosylmethionine synthase isoform type-1      1\n",
       "206           Non-specific lipid-transfer protein      1\n",
       "207        Tetracycline repressor protein class D      1\n",
       "208                                     Hydrolase      1\n",
       "209  High-potential iron-sulfur protein isozyme I      1\n",
       "\n",
       "[210 rows x 2 columns]"
      ]
     },
     "execution_count": 8,
     "metadata": {},
     "output_type": "execute_result"
    }
   ],
   "source": [
    "protein_counts_1 = df[\"protein_name\"].value_counts().reset_index()\n",
    "protein_counts_1"
   ]
  },
  {
   "cell_type": "code",
   "execution_count": 9,
   "metadata": {},
   "outputs": [
    {
     "name": "stdout",
     "output_type": "stream",
     "text": [
      "Structure exists: './structures/pdb1cqw.ent' \n",
      "Chain: A\n"
     ]
    }
   ],
   "source": [
    "from Bio.PDB import PDBList, PDBParser\n",
    "\n",
    "# Download structure from RCSB\n",
    "pdb_id = \"1CQW\"  # example: replace with actual PDB ID\n",
    "pdbl = PDBList()\n",
    "pdbl.retrieve_pdb_file(pdb_id, file_format=\"pdb\", pdir=\"./structures\")\n",
    "\n",
    "# Parse the structure\n",
    "parser = PDBParser()\n",
    "structure = parser.get_structure(pdb_id, f\"./structures/pdb{pdb_id.lower()}.ent\")\n",
    "\n",
    "# Print chain IDs\n",
    "for model in structure:\n",
    "    for chain in model:\n",
    "        print(\"Chain:\", chain.id)"
   ]
  },
  {
   "cell_type": "code",
   "execution_count": 10,
   "metadata": {},
   "outputs": [
    {
     "data": {
      "text/plain": [
       "(39177, 35)"
      ]
     },
     "execution_count": 10,
     "metadata": {},
     "output_type": "execute_result"
    }
   ],
   "source": [
    "df_filtered = df[df['ddG'].notnull()]\n",
    "\n",
    "df_filtered.shape"
   ]
  },
  {
   "cell_type": "code",
   "execution_count": 11,
   "metadata": {},
   "outputs": [
    {
     "data": {
      "application/vnd.microsoft.datawrangler.viewer.v0+json": {
       "columns": [
        {
         "name": "index",
         "rawType": "int64",
         "type": "integer"
        },
        {
         "name": "protein_name",
         "rawType": "object",
         "type": "string"
        },
        {
         "name": "count",
         "rawType": "int64",
         "type": "integer"
        }
       ],
       "conversionMethod": "pd.DataFrame",
       "ref": "8f2c2e88-7efb-4f73-9e94-e2e6df518176",
       "rows": [
        [
         "0",
         "Subtilisin-chymotrypsin inhibitor-2A",
         "11160"
        ],
        [
         "1",
         "Immunoglobulin G-binding protein G",
         "2158"
        ],
        [
         "2",
         "Tryptophan synthase alpha chain",
         "1915"
        ],
        [
         "3",
         "Thermonuclease",
         "1857"
        ],
        [
         "4",
         "10 kDa chaperonin",
         "1764"
        ],
        [
         "5",
         "Azurin",
         "1616"
        ],
        [
         "6",
         "30S ribosomal protein S6",
         "1552"
        ],
        [
         "7",
         "Tyrosine-protein kinase Fyn",
         "1444"
        ],
        [
         "8",
         "Cellular tumor antigen p53",
         "1245"
        ],
        [
         "9",
         "DNA-Binding protein G5P",
         "964"
        ],
        [
         "10",
         "Endolysin",
         "928"
        ],
        [
         "11",
         "Cold shock protein CspB",
         "816"
        ],
        [
         "12",
         "Guanyl-specific ribonuclease Sa",
         "732"
        ],
        [
         "13",
         "Peptidyl-prolyl cis-trans isomerase FKBP1A",
         "728"
        ],
        [
         "14",
         "Insulin",
         "720"
        ],
        [
         "15",
         "Ribonuclease",
         "711"
        ],
        [
         "16",
         "Glutamate dehydrogenase",
         "540"
        ],
        [
         "17",
         "Lysozyme C",
         "520"
        ],
        [
         "18",
         "Transcriptional repressor arc",
         "412"
        ],
        [
         "19",
         "Subtilisin inhibitor",
         "364"
        ],
        [
         "20",
         "Cytochrome c isoform 1",
         "314"
        ],
        [
         "21",
         "Flavodoxin",
         "283"
        ],
        [
         "22",
         "Aspartate aminotransferase",
         "276"
        ],
        [
         "23",
         "Dihydrofolate reductase",
         "270"
        ],
        [
         "24",
         "Alpha-lactalbumin",
         "252"
        ],
        [
         "25",
         "50S ribosomal protein L9",
         "248"
        ],
        [
         "26",
         "Ribonuclease HI",
         "247"
        ],
        [
         "27",
         "Peptidyl-prolyl cis-trans isomerase NIMA-interacting 1",
         "240"
        ],
        [
         "28",
         "Cyclin-dependent kinases regulatory subunit",
         "224"
        ],
        [
         "29",
         "Bacteriorhodopsin",
         "216"
        ],
        [
         "30",
         "Myoglobin",
         "196"
        ],
        [
         "31",
         "Superoxide dismutase [Mn], mitochondrial",
         "160"
        ],
        [
         "32",
         "Guanyl-specific ribonuclease T1",
         "155"
        ],
        [
         "33",
         "Spectrin alpha chain, non-erythrocytic 1",
         "137"
        ],
        [
         "34",
         "Cyclin-dependent kinases regulatory subunit 1",
         "128"
        ],
        [
         "35",
         "Adrenodoxin, mitochondrial",
         "128"
        ],
        [
         "36",
         "Ribonuclease pancreatic",
         "115"
        ],
        [
         "37",
         "Pancreatic trypsin inhibitor",
         "111"
        ],
        [
         "38",
         "Tenascin",
         "110"
        ],
        [
         "39",
         "Fibronectin",
         "107"
        ],
        [
         "40",
         "GRAM_POS_ANCHORING domain-containing protein",
         "103"
        ],
        [
         "41",
         "Alpha-1-antitrypsin",
         "97"
        ],
        [
         "42",
         "Acyl-CoA-binding protein",
         "93"
        ],
        [
         "43",
         "Regulatory protein rop",
         "92"
        ],
        [
         "44",
         "Maltose/maltodextrin-binding periplasmic protein",
         "88"
        ],
        [
         "45",
         "T-cell surface antigen CD2",
         "88"
        ],
        [
         "46",
         "Fibroblast growth factor 1",
         "85"
        ],
        [
         "47",
         "Protein S100-B",
         "84"
        ],
        [
         "48",
         "Regulatory protein cro",
         "80"
        ],
        [
         "49",
         "DNA-binding protein 7d",
         "78"
        ]
       ],
       "shape": {
        "columns": 2,
        "rows": 159
       }
      },
      "text/html": [
       "<div>\n",
       "<style scoped>\n",
       "    .dataframe tbody tr th:only-of-type {\n",
       "        vertical-align: middle;\n",
       "    }\n",
       "\n",
       "    .dataframe tbody tr th {\n",
       "        vertical-align: top;\n",
       "    }\n",
       "\n",
       "    .dataframe thead th {\n",
       "        text-align: right;\n",
       "    }\n",
       "</style>\n",
       "<table border=\"1\" class=\"dataframe\">\n",
       "  <thead>\n",
       "    <tr style=\"text-align: right;\">\n",
       "      <th></th>\n",
       "      <th>protein_name</th>\n",
       "      <th>count</th>\n",
       "    </tr>\n",
       "  </thead>\n",
       "  <tbody>\n",
       "    <tr>\n",
       "      <th>0</th>\n",
       "      <td>Subtilisin-chymotrypsin inhibitor-2A</td>\n",
       "      <td>11160</td>\n",
       "    </tr>\n",
       "    <tr>\n",
       "      <th>1</th>\n",
       "      <td>Immunoglobulin G-binding protein G</td>\n",
       "      <td>2158</td>\n",
       "    </tr>\n",
       "    <tr>\n",
       "      <th>2</th>\n",
       "      <td>Tryptophan synthase alpha chain</td>\n",
       "      <td>1915</td>\n",
       "    </tr>\n",
       "    <tr>\n",
       "      <th>3</th>\n",
       "      <td>Thermonuclease</td>\n",
       "      <td>1857</td>\n",
       "    </tr>\n",
       "    <tr>\n",
       "      <th>4</th>\n",
       "      <td>10 kDa chaperonin</td>\n",
       "      <td>1764</td>\n",
       "    </tr>\n",
       "    <tr>\n",
       "      <th>...</th>\n",
       "      <td>...</td>\n",
       "      <td>...</td>\n",
       "    </tr>\n",
       "    <tr>\n",
       "      <th>154</th>\n",
       "      <td>Non-specific lipid-transfer protein</td>\n",
       "      <td>1</td>\n",
       "    </tr>\n",
       "    <tr>\n",
       "      <th>155</th>\n",
       "      <td>Tetracycline repressor protein class D</td>\n",
       "      <td>1</td>\n",
       "    </tr>\n",
       "    <tr>\n",
       "      <th>156</th>\n",
       "      <td>Alpha-amylase</td>\n",
       "      <td>1</td>\n",
       "    </tr>\n",
       "    <tr>\n",
       "      <th>157</th>\n",
       "      <td>Ferredoxin, heterocyst</td>\n",
       "      <td>1</td>\n",
       "    </tr>\n",
       "    <tr>\n",
       "      <th>158</th>\n",
       "      <td>High-potential iron-sulfur protein isozyme I</td>\n",
       "      <td>1</td>\n",
       "    </tr>\n",
       "  </tbody>\n",
       "</table>\n",
       "<p>159 rows × 2 columns</p>\n",
       "</div>"
      ],
      "text/plain": [
       "                                     protein_name  count\n",
       "0            Subtilisin-chymotrypsin inhibitor-2A  11160\n",
       "1              Immunoglobulin G-binding protein G   2158\n",
       "2                 Tryptophan synthase alpha chain   1915\n",
       "3                                  Thermonuclease   1857\n",
       "4                               10 kDa chaperonin   1764\n",
       "..                                            ...    ...\n",
       "154           Non-specific lipid-transfer protein      1\n",
       "155        Tetracycline repressor protein class D      1\n",
       "156                                 Alpha-amylase      1\n",
       "157                        Ferredoxin, heterocyst      1\n",
       "158  High-potential iron-sulfur protein isozyme I      1\n",
       "\n",
       "[159 rows x 2 columns]"
      ]
     },
     "execution_count": 11,
     "metadata": {},
     "output_type": "execute_result"
    }
   ],
   "source": [
    "protein_counts = df_filtered[\"protein_name\"].value_counts().reset_index()\n",
    "protein_counts"
   ]
  },
  {
   "cell_type": "code",
   "execution_count": 31,
   "metadata": {},
   "outputs": [],
   "source": [
    "columns_to_keep = [\n",
    "    'experiment_id',             # for tracking/logging\n",
    "    'protein_name',              # useful for protein-level filtering\n",
    "    'uniprot_id',                # for linking external annotations\n",
    "    'pdb_id',                    # required for structure\n",
    "    'chain',                     # required to select chain from PDB\n",
    "    'position',                  # residue index of mutation\n",
    "    'wild_type',                 # original amino acid\n",
    "    'mutation',                  # mutated amino acid\n",
    "    'ddG',                       # target variable\n",
    "    'sequence',                  # full wild-type sequence\n",
    "    'is_in_catalytic_pocket',    # core binary feature (100% coverage)\n",
    "    'is_essential'               # core binary feature (100% coverage)\n",
    "]\n",
    "df_subset = df_filtered[columns_to_keep]\n",
    "\n",
    "df_subset = df_subset.dropna()\n"
   ]
  },
  {
   "cell_type": "code",
   "execution_count": 32,
   "metadata": {},
   "outputs": [
    {
     "data": {
      "text/plain": [
       "experiment_id             0\n",
       "protein_name              0\n",
       "uniprot_id                0\n",
       "pdb_id                    0\n",
       "chain                     0\n",
       "position                  0\n",
       "wild_type                 0\n",
       "mutation                  0\n",
       "ddG                       0\n",
       "sequence                  0\n",
       "is_in_catalytic_pocket    0\n",
       "is_essential              0\n",
       "dtype: int64"
      ]
     },
     "execution_count": 32,
     "metadata": {},
     "output_type": "execute_result"
    }
   ],
   "source": [
    "df_subset.isna().sum()\n"
   ]
  },
  {
   "cell_type": "code",
   "execution_count": 34,
   "metadata": {},
   "outputs": [
    {
     "name": "stdout",
     "output_type": "stream",
     "text": [
      "     experiment_id                        protein_name uniprot_id  \\\n",
      "5818      LL000714  Immunoglobulin G-binding protein G     P06654   \n",
      "5819      LL000714  Immunoglobulin G-binding protein G     P06654   \n",
      "5820      LL000715  Immunoglobulin G-binding protein G     P06654   \n",
      "5821      LL000715  Immunoglobulin G-binding protein G     P06654   \n",
      "5822      LL000716  Immunoglobulin G-binding protein G     P06654   \n",
      "\n",
      "              pdb_id chain  position wild_type mutation   ddG  \\\n",
      "5818  1PGA|1EM7|2GB1     A         1         M        A -0.14   \n",
      "5819  1PGA|1EM7|2GB1     A         1         M        A -0.14   \n",
      "5820  1PGA|1EM7|2GB1     A         1         M        D -0.38   \n",
      "5821  1PGA|1EM7|2GB1     A         1         M        D -0.38   \n",
      "5822  1PGA|1EM7|2GB1     A         1         M        E -0.64   \n",
      "\n",
      "                                               sequence  \\\n",
      "5818  MEKEKKVKYFLRKSAFGLASVSAAFLVGSTVFAVDSPIEDTPIIRN...   \n",
      "5819  MEKEKKVKYFLRKSAFGLASVSAAFLVGSTVFAVDSPIEDTPIIRN...   \n",
      "5820  MEKEKKVKYFLRKSAFGLASVSAAFLVGSTVFAVDSPIEDTPIIRN...   \n",
      "5821  MEKEKKVKYFLRKSAFGLASVSAAFLVGSTVFAVDSPIEDTPIIRN...   \n",
      "5822  MEKEKKVKYFLRKSAFGLASVSAAFLVGSTVFAVDSPIEDTPIIRN...   \n",
      "\n",
      "      is_in_catalytic_pocket  is_essential  \n",
      "5818                   False         False  \n",
      "5819                   False         False  \n",
      "5820                   False         False  \n",
      "5821                   False         False  \n",
      "5822                   False         False  \n"
     ]
    }
   ],
   "source": [
    "print(df_subset.head())\n"
   ]
  },
  {
   "cell_type": "code",
   "execution_count": 35,
   "metadata": {},
   "outputs": [
    {
     "name": "stdout",
     "output_type": "stream",
     "text": [
      "Index(['experiment_id', 'protein_name', 'uniprot_id', 'pdb_id', 'chain',\n",
      "       'position', 'wild_type', 'mutation', 'ddG', 'sequence',\n",
      "       'is_in_catalytic_pocket', 'is_essential'],\n",
      "      dtype='object')\n"
     ]
    }
   ],
   "source": [
    "print(df_subset.columns)"
   ]
  },
  {
   "cell_type": "code",
   "execution_count": 14,
   "metadata": {},
   "outputs": [],
   "source": [
    "##### Parse Structure and Get Residue Coordinates\n",
    "\n",
    "from Bio.PDB import PDBParser\n",
    "import numpy as np\n",
    "\n",
    "def extract_residue_coords(pdb_file, chain_id):\n",
    "    parser = PDBParser(QUIET=True)\n",
    "    structure = parser.get_structure('protein', pdb_file)\n",
    "    model = structure[0]  # first model\n",
    "\n",
    "    coords = {}\n",
    "    for residue in model[chain_id]:\n",
    "        if 'CA' in residue:  # alpha carbon only\n",
    "            res_id = residue.get_id()[1]\n",
    "            coords[res_id] = residue['CA'].get_coord()\n",
    "\n",
    "    return coords\n"
   ]
  },
  {
   "cell_type": "code",
   "execution_count": 42,
   "metadata": {},
   "outputs": [
    {
     "name": "stdout",
     "output_type": "stream",
     "text": [
      "Requirement already satisfied: networkx in ./.venv/lib/python3.13/site-packages (3.4.2)\n",
      "Requirement already satisfied: scipy in ./.venv/lib/python3.13/site-packages (1.15.2)\n",
      "Requirement already satisfied: numpy<2.5,>=1.23.5 in ./.venv/lib/python3.13/site-packages (from scipy) (2.2.4)\n",
      "Requirement already satisfied: matplotlib in ./.venv/lib/python3.13/site-packages (3.10.1)\n",
      "Requirement already satisfied: contourpy>=1.0.1 in ./.venv/lib/python3.13/site-packages (from matplotlib) (1.3.2)\n",
      "Requirement already satisfied: cycler>=0.10 in ./.venv/lib/python3.13/site-packages (from matplotlib) (0.12.1)\n",
      "Requirement already satisfied: fonttools>=4.22.0 in ./.venv/lib/python3.13/site-packages (from matplotlib) (4.57.0)\n",
      "Requirement already satisfied: kiwisolver>=1.3.1 in ./.venv/lib/python3.13/site-packages (from matplotlib) (1.4.8)\n",
      "Requirement already satisfied: numpy>=1.23 in ./.venv/lib/python3.13/site-packages (from matplotlib) (2.2.4)\n",
      "Requirement already satisfied: packaging>=20.0 in ./.venv/lib/python3.13/site-packages (from matplotlib) (24.2)\n",
      "Requirement already satisfied: pillow>=8 in ./.venv/lib/python3.13/site-packages (from matplotlib) (11.2.1)\n",
      "Requirement already satisfied: pyparsing>=2.3.1 in ./.venv/lib/python3.13/site-packages (from matplotlib) (3.2.3)\n",
      "Requirement already satisfied: python-dateutil>=2.7 in ./.venv/lib/python3.13/site-packages (from matplotlib) (2.9.0.post0)\n",
      "Requirement already satisfied: six>=1.5 in ./.venv/lib/python3.13/site-packages (from python-dateutil>=2.7->matplotlib) (1.17.0)\n",
      "Requirement already satisfied: torch in ./.venv/lib/python3.13/site-packages (2.6.0)\n",
      "Requirement already satisfied: filelock in ./.venv/lib/python3.13/site-packages (from torch) (3.18.0)\n",
      "Requirement already satisfied: typing-extensions>=4.10.0 in ./.venv/lib/python3.13/site-packages (from torch) (4.13.2)\n",
      "Requirement already satisfied: networkx in ./.venv/lib/python3.13/site-packages (from torch) (3.4.2)\n",
      "Requirement already satisfied: jinja2 in ./.venv/lib/python3.13/site-packages (from torch) (3.1.6)\n",
      "Requirement already satisfied: fsspec in ./.venv/lib/python3.13/site-packages (from torch) (2025.3.2)\n",
      "Requirement already satisfied: setuptools in ./.venv/lib/python3.13/site-packages (from torch) (79.0.0)\n",
      "Requirement already satisfied: sympy==1.13.1 in ./.venv/lib/python3.13/site-packages (from torch) (1.13.1)\n",
      "Requirement already satisfied: mpmath<1.4,>=1.1.0 in ./.venv/lib/python3.13/site-packages (from sympy==1.13.1->torch) (1.3.0)\n",
      "Requirement already satisfied: MarkupSafe>=2.0 in ./.venv/lib/python3.13/site-packages (from jinja2->torch) (3.0.2)\n",
      "Collecting torch_geometric\n",
      "  Downloading torch_geometric-2.6.1-py3-none-any.whl.metadata (63 kB)\n",
      "Collecting aiohttp (from torch_geometric)\n",
      "  Downloading aiohttp-3.11.17-cp313-cp313-macosx_11_0_arm64.whl.metadata (7.7 kB)\n",
      "Requirement already satisfied: fsspec in ./.venv/lib/python3.13/site-packages (from torch_geometric) (2025.3.2)\n",
      "Requirement already satisfied: jinja2 in ./.venv/lib/python3.13/site-packages (from torch_geometric) (3.1.6)\n",
      "Requirement already satisfied: numpy in ./.venv/lib/python3.13/site-packages (from torch_geometric) (2.2.4)\n",
      "Requirement already satisfied: psutil>=5.8.0 in ./.venv/lib/python3.13/site-packages (from torch_geometric) (7.0.0)\n",
      "Requirement already satisfied: pyparsing in ./.venv/lib/python3.13/site-packages (from torch_geometric) (3.2.3)\n",
      "Collecting requests (from torch_geometric)\n",
      "  Downloading requests-2.32.3-py3-none-any.whl.metadata (4.6 kB)\n",
      "Collecting tqdm (from torch_geometric)\n",
      "  Downloading tqdm-4.67.1-py3-none-any.whl.metadata (57 kB)\n",
      "Collecting aiohappyeyeballs>=2.3.0 (from aiohttp->torch_geometric)\n",
      "  Downloading aiohappyeyeballs-2.6.1-py3-none-any.whl.metadata (5.9 kB)\n",
      "Collecting aiosignal>=1.1.2 (from aiohttp->torch_geometric)\n",
      "  Downloading aiosignal-1.3.2-py2.py3-none-any.whl.metadata (3.8 kB)\n",
      "Collecting attrs>=17.3.0 (from aiohttp->torch_geometric)\n",
      "  Downloading attrs-25.3.0-py3-none-any.whl.metadata (10 kB)\n",
      "Collecting frozenlist>=1.1.1 (from aiohttp->torch_geometric)\n",
      "  Downloading frozenlist-1.6.0-cp313-cp313-macosx_11_0_arm64.whl.metadata (16 kB)\n",
      "Collecting multidict<7.0,>=4.5 (from aiohttp->torch_geometric)\n",
      "  Downloading multidict-6.4.3-cp313-cp313-macosx_11_0_arm64.whl.metadata (5.3 kB)\n",
      "Collecting propcache>=0.2.0 (from aiohttp->torch_geometric)\n",
      "  Downloading propcache-0.3.1-cp313-cp313-macosx_11_0_arm64.whl.metadata (10 kB)\n",
      "Collecting yarl<2.0,>=1.17.0 (from aiohttp->torch_geometric)\n",
      "  Downloading yarl-1.20.0-cp313-cp313-macosx_11_0_arm64.whl.metadata (72 kB)\n",
      "Requirement already satisfied: MarkupSafe>=2.0 in ./.venv/lib/python3.13/site-packages (from jinja2->torch_geometric) (3.0.2)\n",
      "Collecting charset-normalizer<4,>=2 (from requests->torch_geometric)\n",
      "  Downloading charset_normalizer-3.4.1-cp313-cp313-macosx_10_13_universal2.whl.metadata (35 kB)\n",
      "Collecting idna<4,>=2.5 (from requests->torch_geometric)\n",
      "  Downloading idna-3.10-py3-none-any.whl.metadata (10 kB)\n",
      "Collecting urllib3<3,>=1.21.1 (from requests->torch_geometric)\n",
      "  Downloading urllib3-2.4.0-py3-none-any.whl.metadata (6.5 kB)\n",
      "Collecting certifi>=2017.4.17 (from requests->torch_geometric)\n",
      "  Downloading certifi-2025.1.31-py3-none-any.whl.metadata (2.5 kB)\n",
      "Downloading torch_geometric-2.6.1-py3-none-any.whl (1.1 MB)\n",
      "\u001b[2K   \u001b[90m━━━━━━━━━━━━━━━━━━━━━━━━━━━━━━━━━━━━━━━━\u001b[0m \u001b[32m1.1/1.1 MB\u001b[0m \u001b[31m8.8 MB/s\u001b[0m eta \u001b[36m0:00:00\u001b[0m\n",
      "\u001b[?25hDownloading aiohttp-3.11.17-cp313-cp313-macosx_11_0_arm64.whl (454 kB)\n",
      "Downloading requests-2.32.3-py3-none-any.whl (64 kB)\n",
      "Downloading tqdm-4.67.1-py3-none-any.whl (78 kB)\n",
      "Downloading aiohappyeyeballs-2.6.1-py3-none-any.whl (15 kB)\n",
      "Downloading aiosignal-1.3.2-py2.py3-none-any.whl (7.6 kB)\n",
      "Downloading attrs-25.3.0-py3-none-any.whl (63 kB)\n",
      "Downloading certifi-2025.1.31-py3-none-any.whl (166 kB)\n",
      "Downloading charset_normalizer-3.4.1-cp313-cp313-macosx_10_13_universal2.whl (195 kB)\n",
      "Downloading frozenlist-1.6.0-cp313-cp313-macosx_11_0_arm64.whl (120 kB)\n",
      "Downloading idna-3.10-py3-none-any.whl (70 kB)\n",
      "Downloading multidict-6.4.3-cp313-cp313-macosx_11_0_arm64.whl (36 kB)\n",
      "Downloading propcache-0.3.1-cp313-cp313-macosx_11_0_arm64.whl (44 kB)\n",
      "Downloading urllib3-2.4.0-py3-none-any.whl (128 kB)\n",
      "Downloading yarl-1.20.0-cp313-cp313-macosx_11_0_arm64.whl (94 kB)\n",
      "Installing collected packages: urllib3, tqdm, propcache, multidict, idna, frozenlist, charset-normalizer, certifi, attrs, aiohappyeyeballs, yarl, requests, aiosignal, aiohttp, torch_geometric\n",
      "Successfully installed aiohappyeyeballs-2.6.1 aiohttp-3.11.17 aiosignal-1.3.2 attrs-25.3.0 certifi-2025.1.31 charset-normalizer-3.4.1 frozenlist-1.6.0 idna-3.10 multidict-6.4.3 propcache-0.3.1 requests-2.32.3 torch_geometric-2.6.1 tqdm-4.67.1 urllib3-2.4.0 yarl-1.20.0\n"
     ]
    }
   ],
   "source": [
    "!pip install networkx\n",
    "!pip install scipy\n",
    "!pip install matplotlib\n",
    "!pip install torch\n",
    "!pip install torch_geometric"
   ]
  },
  {
   "cell_type": "code",
   "execution_count": 19,
   "metadata": {},
   "outputs": [],
   "source": [
    "##### Create Graph Edges Based on Distance\n",
    "\n",
    "import networkx as nx\n",
    "from scipy.spatial.distance import euclidean\n",
    "\n",
    "def build_protein_graph(coords, distance_threshold=8.0):\n",
    "    G = nx.Graph()\n",
    "    residue_ids = list(coords.keys())\n",
    "\n",
    "    # Add nodes\n",
    "    for res_id in residue_ids:\n",
    "        G.add_node(res_id, pos=coords[res_id])\n",
    "\n",
    "    # Add edges based on distance\n",
    "    for i, id1 in enumerate(residue_ids):\n",
    "        for id2 in residue_ids[i+1:]:\n",
    "            dist = euclidean(coords[id1], coords[id2])\n",
    "            if dist <= distance_threshold:\n",
    "                G.add_edge(id1, id2, distance=dist)\n",
    "\n",
    "    return G\n"
   ]
  },
  {
   "cell_type": "code",
   "execution_count": 22,
   "metadata": {},
   "outputs": [
    {
     "name": "stderr",
     "output_type": "stream",
     "text": [
      "Matplotlib is building the font cache; this may take a moment.\n"
     ]
    }
   ],
   "source": [
    "##### Construct graph from PDB\n",
    "def construct_graph_from_pdb(pdb_file, chain_id, distance_threshold=8.0):\n",
    "    coords = extract_residue_coords(pdb_file, chain_id)\n",
    "    graph = build_protein_graph(coords, distance_threshold)\n",
    "    return graph\n",
    "\n",
    "import matplotlib.pyplot as plt\n",
    "\n",
    "def plot_graph_2d(graph):\n",
    "    pos = {n: graph.nodes[n]['pos'][:2] for n in graph.nodes}\n",
    "    nx.draw(graph, pos, node_size=50, with_labels=True)\n",
    "    plt.show()\n"
   ]
  },
  {
   "cell_type": "code",
   "execution_count": 56,
   "metadata": {},
   "outputs": [],
   "source": [
    "##### Add node features and one hot encode the amino acids\n",
    "\n",
    "import pandas as pd\n",
    "\n",
    "def one_hot_encode_aa(aa):\n",
    "    aa_list = list(\"ACDEFGHIKLMNPQRSTVWY\")  # standard 20 amino acids\n",
    "    return [int(aa == x) for x in aa_list]\n",
    "\n",
    "def enrich_graph_with_features(graph, df, sequence_length):\n",
    "    for _, row in df.iterrows():\n",
    "        pos = int(row['position'])\n",
    "        if pos in graph.nodes:\n",
    "            graph.nodes[pos]['aa_type'] = one_hot_encode_aa(row['wild_type'])\n",
    "            graph.nodes[pos]['is_catalytic'] = int(row['is_in_catalytic_pocket'])\n",
    "            graph.nodes[pos]['is_essential'] = int(row['is_essential'])\n",
    "            graph.nodes[pos]['relative_pos'] = pos / sequence_length\n",
    "        else:\n",
    "            print(f\"⚠️ Residue position {pos} not found in structure.\")\n",
    "    return graph\n",
    "\n",
    "\n"
   ]
  },
  {
   "cell_type": "code",
   "execution_count": 43,
   "metadata": {},
   "outputs": [],
   "source": [
    "##### Convert a Graph to a PyTorch Geometric Data Object\n",
    "\n",
    "import torch\n",
    "from torch_geometric.data import Data\n",
    "\n",
    "def convert_nx_to_pyg(graph, ddG_value):\n",
    "    # Extract node features\n",
    "    features = []\n",
    "    node_id_map = {n: i for i, n in enumerate(graph.nodes)}  # map from pos to 0-indexed ID\n",
    "    for n in graph.nodes:\n",
    "        feat = graph.nodes[n]['aa_type'] + [graph.nodes[n]['is_catalytic'], graph.nodes[n]['is_essential'], graph.nodes[n]['relative_pos']]\n",
    "        features.append(feat)\n",
    "    x = torch.tensor(features, dtype=torch.float)\n",
    "\n",
    "    # Build edge index\n",
    "    edge_index = []\n",
    "    edge_attr = []\n",
    "    for u, v, attrs in graph.edges(data=True):\n",
    "        edge_index.append([node_id_map[u], node_id_map[v]])\n",
    "        edge_index.append([node_id_map[v], node_id_map[u]])  # undirected\n",
    "        edge_attr.append([attrs['distance']])\n",
    "        edge_attr.append([attrs['distance']])\n",
    "    \n",
    "    edge_index = torch.tensor(edge_index, dtype=torch.long).t().contiguous()\n",
    "    edge_attr = torch.tensor(edge_attr, dtype=torch.float)\n",
    "\n",
    "    # Target\n",
    "    y = torch.tensor([ddG_value], dtype=torch.float)\n",
    "\n",
    "    return Data(x=x, edge_index=edge_index, edge_attr=edge_attr, y=y)\n"
   ]
  },
  {
   "cell_type": "code",
   "execution_count": 46,
   "metadata": {},
   "outputs": [],
   "source": [
    "##### Build GNN Encoder\n",
    "\n",
    "import torch.nn as nn\n",
    "import torch.nn.functional as F\n",
    "from torch_geometric.nn import GCNConv, global_mean_pool\n",
    "\n",
    "class ProteinGNNEncoder(nn.Module):\n",
    "    def __init__(self, in_dim, hidden_dim, out_dim):\n",
    "        super().__init__()\n",
    "        self.conv1 = GCNConv(in_dim, hidden_dim)\n",
    "        self.conv2 = GCNConv(hidden_dim, hidden_dim)\n",
    "        self.readout = global_mean_pool  # can swap to max or attention\n",
    "        self.mlp = nn.Sequential(\n",
    "            nn.Linear(hidden_dim, hidden_dim),\n",
    "            nn.ReLU(),\n",
    "            nn.Linear(hidden_dim, out_dim)\n",
    "        )\n",
    "\n",
    "    def forward(self, x, edge_index, batch):\n",
    "        x = F.relu(self.conv1(x, edge_index))\n",
    "        x = F.relu(self.conv2(x, edge_index))\n",
    "        x = self.readout(x, batch)\n",
    "        return self.mlp(x)\n"
   ]
  },
  {
   "cell_type": "code",
   "execution_count": null,
   "metadata": {},
   "outputs": [
    {
     "name": "stdout",
     "output_type": "stream",
     "text": [
      "Index(['experiment_id', 'protein_name', 'uniprot_id', 'pdb_id', 'chain',\n",
      "       'position', 'wild_type', 'mutation', 'ddG', 'dTm', 'is_curated', 'type',\n",
      "       'derived_type', 'interpro_families', 'conservation', 'is_essential',\n",
      "       'correlated_positions', 'is_back_to_consensus', 'secondary_structure',\n",
      "       'asa', 'is_in_catalytic_pocket', 'is_in_tunnel_bottleneck', 'b_factor',\n",
      "       'method', 'method_details', 'technique', 'technique_details', 'pH',\n",
      "       'tm', 'notes', 'publication_doi', 'publication_pubmed', 'hsw_job_id',\n",
      "       'datasets', 'sequence'],\n",
      "      dtype='object')\n",
      "experiment_id               object\n",
      "protein_name                object\n",
      "uniprot_id                  object\n",
      "pdb_id                      object\n",
      "chain                       object\n",
      "position                     int64\n",
      "wild_type                   object\n",
      "mutation                    object\n",
      "ddG                        float64\n",
      "dTm                        float64\n",
      "is_curated                    bool\n",
      "type                       float64\n",
      "derived_type               float64\n",
      "interpro_families           object\n",
      "conservation               float64\n",
      "is_essential                  bool\n",
      "correlated_positions       float64\n",
      "is_back_to_consensus          bool\n",
      "secondary_structure         object\n",
      "asa                        float64\n",
      "is_in_catalytic_pocket        bool\n",
      "is_in_tunnel_bottleneck       bool\n",
      "b_factor                   float64\n",
      "method                      object\n",
      "method_details              object\n",
      "technique                   object\n",
      "technique_details           object\n",
      "pH                         float64\n",
      "tm                         float64\n",
      "notes                       object\n",
      "publication_doi             object\n",
      "publication_pubmed         float64\n",
      "hsw_job_id                  object\n",
      "datasets                    object\n",
      "sequence                    object\n",
      "dtype: object\n",
      "experiment_id                  0\n",
      "protein_name                  31\n",
      "uniprot_id                  2479\n",
      "pdb_id                        15\n",
      "chain                         15\n",
      "position                       0\n",
      "wild_type                      0\n",
      "mutation                       0\n",
      "ddG                        14268\n",
      "dTm                        39156\n",
      "is_curated                     0\n",
      "type                       53445\n",
      "derived_type               53445\n",
      "interpro_families           2491\n",
      "conservation                5926\n",
      "is_essential                   0\n",
      "correlated_positions       53445\n",
      "is_back_to_consensus           0\n",
      "secondary_structure         2125\n",
      "asa                         2125\n",
      "is_in_catalytic_pocket         0\n",
      "is_in_tunnel_bottleneck        0\n",
      "b_factor                    3151\n",
      "method                     19361\n",
      "method_details             28906\n",
      "technique                  28906\n",
      "technique_details          28906\n",
      "pH                         10480\n",
      "tm                         27813\n",
      "notes                      40497\n",
      "publication_doi              244\n",
      "publication_pubmed          1017\n",
      "hsw_job_id                   573\n",
      "datasets                    9794\n",
      "sequence                       0\n",
      "dtype: int64\n",
      "  experiment_id             protein_name uniprot_id pdb_id chain  position  \\\n",
      "0      LL000001  Haloalkane dehalogenase     P59336   1CQW     A       245   \n",
      "1      LL000002  Haloalkane dehalogenase     P59336   1CQW     A        95   \n",
      "2      LL000004  Haloalkane dehalogenase     P59336   1CQW     A       176   \n",
      "3      LL000005  Haloalkane dehalogenase     P59336   1CQW     A       171   \n",
      "4      LL000006  Haloalkane dehalogenase     P59336   1CQW     A       148   \n",
      "\n",
      "  wild_type mutation  ddG  dTm  ...  technique  technique_details  pH    tm  \\\n",
      "0         V        L  NaN  2.1  ...        NaN                NaN NaN  52.5   \n",
      "1         L        V  NaN -0.4  ...        NaN                NaN NaN  50.0   \n",
      "2         C        F  NaN  5.2  ...        NaN                NaN NaN  55.6   \n",
      "3         G        Q  NaN  3.1  ...        NaN                NaN NaN  53.5   \n",
      "4         T        L  NaN  1.1  ...        NaN                NaN NaN  51.5   \n",
      "\n",
      "   notes  publication_doi  publication_pubmed  hsw_job_id datasets  \\\n",
      "0    NaN              NaN                 NaN      xfyu58      NaN   \n",
      "1    NaN              NaN                 NaN      xfyu58      NaN   \n",
      "2    NaN              NaN                 NaN      xfyu58      NaN   \n",
      "3    NaN              NaN                 NaN      xfyu58      NaN   \n",
      "4    NaN              NaN                 NaN      xfyu58      NaN   \n",
      "\n",
      "                                            sequence  \n",
      "0  MSEIGTGFPFDPHYVEVLGERMHYVDVGPRDGTPVLFLHGNPTSSY...  \n",
      "1  MSEIGTGFPFDPHYVEVLGERMHYVDVGPRDGTPVLFLHGNPTSSY...  \n",
      "2  MSEIGTGFPFDPHYVEVLGERMHYVDVGPRDGTPVLFLHGNPTSSY...  \n",
      "3  MSEIGTGFPFDPHYVEVLGERMHYVDVGPRDGTPVLFLHGNPTSSY...  \n",
      "4  MSEIGTGFPFDPHYVEVLGERMHYVDVGPRDGTPVLFLHGNPTSSY...  \n",
      "\n",
      "[5 rows x 35 columns]\n"
     ]
    }
   ],
   "source": [
    "print(df.columns)"
   ]
  },
  {
   "cell_type": "code",
   "execution_count": 51,
   "metadata": {},
   "outputs": [
    {
     "name": "stdout",
     "output_type": "stream",
     "text": [
      "experiment_id               object\n",
      "protein_name                object\n",
      "uniprot_id                  object\n",
      "pdb_id                      object\n",
      "chain                       object\n",
      "position                     int64\n",
      "wild_type                   object\n",
      "mutation                    object\n",
      "ddG                        float64\n",
      "dTm                        float64\n",
      "is_curated                    bool\n",
      "type                       float64\n",
      "derived_type               float64\n",
      "interpro_families           object\n",
      "conservation               float64\n",
      "is_essential                  bool\n",
      "correlated_positions       float64\n",
      "is_back_to_consensus          bool\n",
      "secondary_structure         object\n",
      "asa                        float64\n",
      "is_in_catalytic_pocket        bool\n",
      "is_in_tunnel_bottleneck       bool\n",
      "b_factor                   float64\n",
      "method                      object\n",
      "method_details              object\n",
      "technique                   object\n",
      "technique_details           object\n",
      "pH                         float64\n",
      "tm                         float64\n",
      "notes                       object\n",
      "publication_doi             object\n",
      "publication_pubmed         float64\n",
      "hsw_job_id                  object\n",
      "datasets                    object\n",
      "sequence                    object\n",
      "dtype: object\n"
     ]
    }
   ],
   "source": [
    "print(df.dtypes)\n"
   ]
  },
  {
   "cell_type": "code",
   "execution_count": null,
   "metadata": {},
   "outputs": [],
   "source": [
    "print(df.isnull().sum())"
   ]
  },
  {
   "cell_type": "code",
   "execution_count": 53,
   "metadata": {},
   "outputs": [],
   "source": [
    "from Bio.PDB import PDBList\n",
    "\n",
    "def fetch_pdb_on_demand(pdb_id, save_dir=\"pdbs\"):\n",
    "    pdbl = PDBList()\n",
    "    pdb_id = pdb_id.lower()\n",
    "    os.makedirs(save_dir, exist_ok=True)\n",
    "    filepath = pdbl.retrieve_pdb_file(pdb_id, pdir=save_dir, file_format='pdb')\n",
    "\n",
    "    # Bio.PDB stores as \"pdbXXXX.ent\" — convert to usable .pdb path\n",
    "    actual_pdb_path = os.path.join(save_dir, f\"{pdb_id}.pdb\")\n",
    "    if not os.path.exists(actual_pdb_path):\n",
    "        os.rename(filepath, actual_pdb_path)\n",
    "    return actual_pdb_path\n"
   ]
  },
  {
   "cell_type": "code",
   "execution_count": null,
   "metadata": {},
   "outputs": [],
   "source": [
    "print(df.head())"
   ]
  },
  {
   "cell_type": "code",
   "execution_count": 60,
   "metadata": {},
   "outputs": [
    {
     "name": "stdout",
     "output_type": "stream",
     "text": [
      "Structure exists: 'pdbs/pdb1cqw.ent' \n"
     ]
    },
    {
     "ename": "IndexError",
     "evalue": "tuple index out of range",
     "output_type": "error",
     "traceback": [
      "\u001b[0;31m---------------------------------------------------------------------------\u001b[0m",
      "\u001b[0;31mIndexError\u001b[0m                                Traceback (most recent call last)",
      "Cell \u001b[0;32mIn[60], line 128\u001b[0m\n\u001b[1;32m    126\u001b[0m G \u001b[38;5;241m=\u001b[39m construct_graph_from_pdb(pdb_file, chain_id)\n\u001b[1;32m    127\u001b[0m G \u001b[38;5;241m=\u001b[39m enrich_graph_with_features(G, row, sequence_length)\n\u001b[0;32m--> 128\u001b[0m data \u001b[38;5;241m=\u001b[39m \u001b[43mconvert_nx_to_pyg\u001b[49m\u001b[43m(\u001b[49m\u001b[43mG\u001b[49m\u001b[43m,\u001b[49m\u001b[43m \u001b[49m\u001b[43mddG\u001b[49m\u001b[43m)\u001b[49m\n\u001b[1;32m    130\u001b[0m \u001b[38;5;66;03m# Assign batch for PyG (single graph = all 0s)\u001b[39;00m\n\u001b[1;32m    131\u001b[0m data\u001b[38;5;241m.\u001b[39mbatch \u001b[38;5;241m=\u001b[39m torch\u001b[38;5;241m.\u001b[39mzeros(data\u001b[38;5;241m.\u001b[39mnum_nodes, dtype\u001b[38;5;241m=\u001b[39mtorch\u001b[38;5;241m.\u001b[39mlong)\n",
      "Cell \u001b[0;32mIn[60], line 107\u001b[0m, in \u001b[0;36mconvert_nx_to_pyg\u001b[0;34m(graph, ddG_value)\u001b[0m\n\u001b[1;32m    103\u001b[0m edge_attr \u001b[38;5;241m=\u001b[39m torch\u001b[38;5;241m.\u001b[39mtensor(edge_attr, dtype\u001b[38;5;241m=\u001b[39mtorch\u001b[38;5;241m.\u001b[39mfloat)\n\u001b[1;32m    105\u001b[0m y \u001b[38;5;241m=\u001b[39m torch\u001b[38;5;241m.\u001b[39mtensor([ddG_value], dtype\u001b[38;5;241m=\u001b[39mtorch\u001b[38;5;241m.\u001b[39mfloat)\n\u001b[0;32m--> 107\u001b[0m \u001b[38;5;28;01mif\u001b[39;00m \u001b[43medge_index\u001b[49m\u001b[38;5;241;43m.\u001b[39;49m\u001b[43mshape\u001b[49m\u001b[43m[\u001b[49m\u001b[38;5;241;43m1\u001b[39;49m\u001b[43m]\u001b[49m \u001b[38;5;241m==\u001b[39m \u001b[38;5;241m0\u001b[39m:\n\u001b[1;32m    108\u001b[0m     \u001b[38;5;28;01mraise\u001b[39;00m \u001b[38;5;167;01mValueError\u001b[39;00m(\u001b[38;5;124m\"\u001b[39m\u001b[38;5;124m❌ Graph has no valid edges after filtering. Cannot proceed.\u001b[39m\u001b[38;5;124m\"\u001b[39m)\n\u001b[1;32m    110\u001b[0m \u001b[38;5;28;01mreturn\u001b[39;00m Data(x\u001b[38;5;241m=\u001b[39mx, edge_index\u001b[38;5;241m=\u001b[39medge_index, edge_attr\u001b[38;5;241m=\u001b[39medge_attr, y\u001b[38;5;241m=\u001b[39my)\n",
      "\u001b[0;31mIndexError\u001b[0m: tuple index out of range"
     ]
    }
   ],
   "source": [
    "import os\n",
    "import torch\n",
    "import pandas as pd\n",
    "from Bio.PDB import PDBList\n",
    "from torch_geometric.data import Data\n",
    "from torch_geometric.nn import GCNConv, global_mean_pool\n",
    "import torch.nn as nn\n",
    "import torch.nn.functional as F\n",
    "\n",
    "# ===============================\n",
    "# PDB Downloader\n",
    "# ===============================\n",
    "def fetch_pdb_on_demand(pdb_id, save_dir=\"pdbs\"):\n",
    "    pdbl = PDBList()\n",
    "    pdb_id = pdb_id.lower()\n",
    "    os.makedirs(save_dir, exist_ok=True)\n",
    "    filepath = pdbl.retrieve_pdb_file(pdb_id, pdir=save_dir, file_format='pdb')\n",
    "\n",
    "    # Bio.PDB stores as pdbXXXX.ent — rename to something easier\n",
    "    new_path = os.path.join(save_dir, f\"{pdb_id}.pdb\")\n",
    "    if not os.path.exists(new_path):\n",
    "        os.rename(filepath, new_path)\n",
    "    return new_path\n",
    "\n",
    "# ===============================\n",
    "# GNN Encoder\n",
    "# ===============================\n",
    "class ProteinGNNEncoder(nn.Module):\n",
    "    def __init__(self, in_dim, hidden_dim, out_dim):\n",
    "        super().__init__()\n",
    "        self.conv1 = GCNConv(in_dim, hidden_dim)\n",
    "        self.conv2 = GCNConv(hidden_dim, hidden_dim)\n",
    "        self.readout = global_mean_pool\n",
    "        self.mlp = nn.Sequential(\n",
    "            nn.Linear(hidden_dim, hidden_dim),\n",
    "            nn.ReLU(),\n",
    "            nn.Linear(hidden_dim, out_dim)\n",
    "        )\n",
    "\n",
    "    def forward(self, x, edge_index, batch):\n",
    "        x = F.relu(self.conv1(x, edge_index))\n",
    "        x = F.relu(self.conv2(x, edge_index))\n",
    "        x = self.readout(x, batch)\n",
    "        return self.mlp(x)\n",
    "\n",
    "# ===============================\n",
    "# One-hot AA Encoder\n",
    "# ===============================\n",
    "def one_hot_encode_aa(aa):\n",
    "    aa_list = list(\"ACDEFGHIKLMNPQRSTVWY\")\n",
    "    return [int(aa == x) for x in aa_list]\n",
    "\n",
    "# ===============================\n",
    "# Feature Enrichment\n",
    "# ===============================\n",
    "def enrich_graph_with_features(graph, df, sequence_length):\n",
    "    for _, row in df.iterrows():\n",
    "        pos = int(row['position'])\n",
    "        if pos in graph.nodes:\n",
    "            graph.nodes[pos]['aa_type'] = one_hot_encode_aa(row['wild_type'])\n",
    "            graph.nodes[pos]['is_catalytic'] = int(row['is_in_catalytic_pocket'])\n",
    "            graph.nodes[pos]['is_essential'] = int(row['is_essential'])\n",
    "            graph.nodes[pos]['relative_pos'] = pos / sequence_length\n",
    "    return graph\n",
    "\n",
    "# ===============================\n",
    "# Convert to PyG Graph\n",
    "# ===============================\n",
    "def convert_nx_to_pyg(graph, ddG_value):\n",
    "    features = []\n",
    "    node_id_map = {}\n",
    "    filtered_nodes = []\n",
    "    \n",
    "    # Only keep nodes with full feature annotations\n",
    "    for i, n in enumerate(graph.nodes):\n",
    "        node_data = graph.nodes[n]\n",
    "        if all(k in node_data for k in ['aa_type', 'is_catalytic', 'is_essential', 'relative_pos']):\n",
    "            node_id_map[n] = len(filtered_nodes)\n",
    "            filtered_nodes.append(n)\n",
    "            feat = node_data['aa_type'] + [\n",
    "                node_data['is_catalytic'],\n",
    "                node_data['is_essential'],\n",
    "                node_data['relative_pos']\n",
    "            ]\n",
    "            features.append(feat)\n",
    "\n",
    "    if len(features) == 0:\n",
    "        raise ValueError(\"❌ No usable nodes with complete features in this graph.\")\n",
    "\n",
    "    x = torch.tensor(features, dtype=torch.float)\n",
    "\n",
    "    # Rebuild edge_index and edge_attr for filtered nodes\n",
    "    edge_index = []\n",
    "    edge_attr = []\n",
    "    for u, v, attrs in graph.edges(data=True):\n",
    "        if u in node_id_map and v in node_id_map:\n",
    "            edge_index.append([node_id_map[u], node_id_map[v]])\n",
    "            edge_index.append([node_id_map[v], node_id_map[u]])\n",
    "            edge_attr.append([attrs['distance']])\n",
    "            edge_attr.append([attrs['distance']])\n",
    "    \n",
    "    edge_index = torch.tensor(edge_index, dtype=torch.long).t().contiguous()\n",
    "    edge_attr = torch.tensor(edge_attr, dtype=torch.float)\n",
    "\n",
    "    y = torch.tensor([ddG_value], dtype=torch.float)\n",
    "    \n",
    "    if edge_index.shape[1] == 0:\n",
    "        raise ValueError(\"❌ Graph has no valid edges after filtering. Cannot proceed.\")\n",
    "\n",
    "    return Data(x=x, edge_index=edge_index, edge_attr=edge_attr, y=y)\n",
    "\n",
    "\n",
    "# ===============================\n",
    "# Single Example Test\n",
    "# ===============================\n",
    "# Assume you already have df loaded and cleaned\n",
    "row = df.iloc[0:1]\n",
    "\n",
    "sequence_length = len(row['sequence'].values[0])\n",
    "ddG = float(row['ddG'].values[0])\n",
    "pdb_id = row['pdb_id'].values[0].split('|')[0]\n",
    "chain_id = row['chain'].values[0]\n",
    "\n",
    "# Build full graph pipeline\n",
    "pdb_file = fetch_pdb_on_demand(pdb_id)\n",
    "G = construct_graph_from_pdb(pdb_file, chain_id)\n",
    "G = enrich_graph_with_features(G, row, sequence_length)\n",
    "data = convert_nx_to_pyg(G, ddG)\n",
    "\n",
    "# Assign batch for PyG (single graph = all 0s)\n",
    "data.batch = torch.zeros(data.num_nodes, dtype=torch.long)\n",
    "\n",
    "# Pass through GNN\n",
    "model = ProteinGNNEncoder(in_dim=23, hidden_dim=64, out_dim=128)\n",
    "embedding = model(data.x, data.edge_index, data.batch)\n",
    "\n",
    "print(\"✅ Protein embedding shape:\", embedding.shape)\n"
   ]
  }
 ],
 "metadata": {
  "kernelspec": {
   "display_name": ".venv",
   "language": "python",
   "name": "python3"
  },
  "language_info": {
   "codemirror_mode": {
    "name": "ipython",
    "version": 3
   },
   "file_extension": ".py",
   "mimetype": "text/x-python",
   "name": "python",
   "nbconvert_exporter": "python",
   "pygments_lexer": "ipython3",
   "version": "3.13.3"
  }
 },
 "nbformat": 4,
 "nbformat_minor": 2
}
