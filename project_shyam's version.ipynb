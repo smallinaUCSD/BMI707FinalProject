{
 "cells": [
  {
   "cell_type": "code",
   "execution_count": 1,
   "metadata": {},
   "outputs": [
    {
     "name": "stdout",
     "output_type": "stream",
     "text": [
      "  experiment_id             protein_name uniprot_id pdb_id chain  position  \\\n",
      "0      LL000001  Haloalkane dehalogenase     P59336   1CQW     A       245   \n",
      "1      LL000002  Haloalkane dehalogenase     P59336   1CQW     A        95   \n",
      "2      LL000004  Haloalkane dehalogenase     P59336   1CQW     A       176   \n",
      "3      LL000005  Haloalkane dehalogenase     P59336   1CQW     A       171   \n",
      "4      LL000006  Haloalkane dehalogenase     P59336   1CQW     A       148   \n",
      "\n",
      "  wild_type mutation  ddG  dTm  ...  technique  technique_details  pH    tm  \\\n",
      "0         V        L  NaN  2.1  ...        NaN                NaN NaN  52.5   \n",
      "1         L        V  NaN -0.4  ...        NaN                NaN NaN  50.0   \n",
      "2         C        F  NaN  5.2  ...        NaN                NaN NaN  55.6   \n",
      "3         G        Q  NaN  3.1  ...        NaN                NaN NaN  53.5   \n",
      "4         T        L  NaN  1.1  ...        NaN                NaN NaN  51.5   \n",
      "\n",
      "   notes  publication_doi  publication_pubmed  hsw_job_id datasets  \\\n",
      "0    NaN              NaN                 NaN      xfyu58      NaN   \n",
      "1    NaN              NaN                 NaN      xfyu58      NaN   \n",
      "2    NaN              NaN                 NaN      xfyu58      NaN   \n",
      "3    NaN              NaN                 NaN      xfyu58      NaN   \n",
      "4    NaN              NaN                 NaN      xfyu58      NaN   \n",
      "\n",
      "                                            sequence  \n",
      "0  MSEIGTGFPFDPHYVEVLGERMHYVDVGPRDGTPVLFLHGNPTSSY...  \n",
      "1  MSEIGTGFPFDPHYVEVLGERMHYVDVGPRDGTPVLFLHGNPTSSY...  \n",
      "2  MSEIGTGFPFDPHYVEVLGERMHYVDVGPRDGTPVLFLHGNPTSSY...  \n",
      "3  MSEIGTGFPFDPHYVEVLGERMHYVDVGPRDGTPVLFLHGNPTSSY...  \n",
      "4  MSEIGTGFPFDPHYVEVLGERMHYVDVGPRDGTPVLFLHGNPTSSY...  \n",
      "\n",
      "[5 rows x 35 columns]\n"
     ]
    },
    {
     "name": "stderr",
     "output_type": "stream",
     "text": [
      "/var/folders/kw/st1ymrwj7q923cvxxbj099fh0000gn/T/ipykernel_33939/1620435626.py:4: DtypeWarning: Columns (23,24,25,26,29) have mixed types. Specify dtype option on import or set low_memory=False.\n",
      "  df = pd.read_csv(\"data/fireprotdb_results.csv\")\n"
     ]
    }
   ],
   "source": [
    "import pandas as pd\n",
    "\n",
    "# Load the dataset (change path if needed)\n",
    "df = pd.read_csv(\"data/fireprotdb_results.csv\")\n",
    "\n",
    "# Preview the data\n",
    "print(df.head())"
   ]
  },
  {
   "cell_type": "code",
   "execution_count": 2,
   "metadata": {},
   "outputs": [
    {
     "name": "stdout",
     "output_type": "stream",
     "text": [
      "Index(['experiment_id', 'protein_name', 'uniprot_id', 'pdb_id', 'chain',\n",
      "       'position', 'wild_type', 'mutation', 'ddG', 'dTm', 'is_curated', 'type',\n",
      "       'derived_type', 'interpro_families', 'conservation', 'is_essential',\n",
      "       'correlated_positions', 'is_back_to_consensus', 'secondary_structure',\n",
      "       'asa', 'is_in_catalytic_pocket', 'is_in_tunnel_bottleneck', 'b_factor',\n",
      "       'method', 'method_details', 'technique', 'technique_details', 'pH',\n",
      "       'tm', 'notes', 'publication_doi', 'publication_pubmed', 'hsw_job_id',\n",
      "       'datasets', 'sequence'],\n",
      "      dtype='object')\n"
     ]
    }
   ],
   "source": [
    "print(df.columns)"
   ]
  },
  {
   "cell_type": "code",
   "execution_count": 13,
   "metadata": {},
   "outputs": [
    {
     "data": {
      "text/html": [
       "<div>\n",
       "<style scoped>\n",
       "    .dataframe tbody tr th:only-of-type {\n",
       "        vertical-align: middle;\n",
       "    }\n",
       "\n",
       "    .dataframe tbody tr th {\n",
       "        vertical-align: top;\n",
       "    }\n",
       "\n",
       "    .dataframe thead th {\n",
       "        text-align: right;\n",
       "    }\n",
       "</style>\n",
       "<table border=\"1\" class=\"dataframe\">\n",
       "  <thead>\n",
       "    <tr style=\"text-align: right;\">\n",
       "      <th></th>\n",
       "      <th>protein_name</th>\n",
       "      <th>count</th>\n",
       "    </tr>\n",
       "  </thead>\n",
       "  <tbody>\n",
       "    <tr>\n",
       "      <th>0</th>\n",
       "      <td>Subtilisin-chymotrypsin inhibitor-2A</td>\n",
       "      <td>12276</td>\n",
       "    </tr>\n",
       "    <tr>\n",
       "      <th>1</th>\n",
       "      <td>Tyrosine-protein kinase Fyn</td>\n",
       "      <td>2488</td>\n",
       "    </tr>\n",
       "    <tr>\n",
       "      <th>2</th>\n",
       "      <td>Halohydrin dehalogenase</td>\n",
       "      <td>2480</td>\n",
       "    </tr>\n",
       "    <tr>\n",
       "      <th>3</th>\n",
       "      <td>ADHA</td>\n",
       "      <td>2404</td>\n",
       "    </tr>\n",
       "    <tr>\n",
       "      <th>4</th>\n",
       "      <td>Immunoglobulin G-binding protein G</td>\n",
       "      <td>2220</td>\n",
       "    </tr>\n",
       "    <tr>\n",
       "      <th>...</th>\n",
       "      <td>...</td>\n",
       "      <td>...</td>\n",
       "    </tr>\n",
       "    <tr>\n",
       "      <th>205</th>\n",
       "      <td>S-adenosylmethionine synthase isoform type-1</td>\n",
       "      <td>1</td>\n",
       "    </tr>\n",
       "    <tr>\n",
       "      <th>206</th>\n",
       "      <td>Non-specific lipid-transfer protein</td>\n",
       "      <td>1</td>\n",
       "    </tr>\n",
       "    <tr>\n",
       "      <th>207</th>\n",
       "      <td>Tetracycline repressor protein class D</td>\n",
       "      <td>1</td>\n",
       "    </tr>\n",
       "    <tr>\n",
       "      <th>208</th>\n",
       "      <td>Hydrolase</td>\n",
       "      <td>1</td>\n",
       "    </tr>\n",
       "    <tr>\n",
       "      <th>209</th>\n",
       "      <td>High-potential iron-sulfur protein isozyme I</td>\n",
       "      <td>1</td>\n",
       "    </tr>\n",
       "  </tbody>\n",
       "</table>\n",
       "<p>210 rows × 2 columns</p>\n",
       "</div>"
      ],
      "text/plain": [
       "                                     protein_name  count\n",
       "0            Subtilisin-chymotrypsin inhibitor-2A  12276\n",
       "1                     Tyrosine-protein kinase Fyn   2488\n",
       "2                         Halohydrin dehalogenase   2480\n",
       "3                                            ADHA   2404\n",
       "4              Immunoglobulin G-binding protein G   2220\n",
       "..                                            ...    ...\n",
       "205  S-adenosylmethionine synthase isoform type-1      1\n",
       "206           Non-specific lipid-transfer protein      1\n",
       "207        Tetracycline repressor protein class D      1\n",
       "208                                     Hydrolase      1\n",
       "209  High-potential iron-sulfur protein isozyme I      1\n",
       "\n",
       "[210 rows x 2 columns]"
      ]
     },
     "execution_count": 13,
     "metadata": {},
     "output_type": "execute_result"
    }
   ],
   "source": [
    "protein_counts_1 = df[\"protein_name\"].value_counts().reset_index()\n",
    "protein_counts_1"
   ]
  },
  {
   "cell_type": "code",
   "execution_count": 4,
   "metadata": {},
   "outputs": [
    {
     "name": "stdout",
     "output_type": "stream",
     "text": [
      "Downloading PDB structure '1cqw'...\n",
      "Chain: A\n"
     ]
    }
   ],
   "source": [
    "from Bio.PDB import PDBList, PDBParser\n",
    "\n",
    "# Download structure from RCSB\n",
    "pdb_id = \"1CQW\"  # example: replace with actual PDB ID\n",
    "pdbl = PDBList()\n",
    "pdbl.retrieve_pdb_file(pdb_id, file_format=\"pdb\", pdir=\"./structures\")\n",
    "\n",
    "# Parse the structure\n",
    "parser = PDBParser()\n",
    "structure = parser.get_structure(pdb_id, f\"./structures/pdb{pdb_id.lower()}.ent\")\n",
    "\n",
    "# Print chain IDs\n",
    "for model in structure:\n",
    "    for chain in model:\n",
    "        print(\"Chain:\", chain.id)"
   ]
  },
  {
   "cell_type": "code",
   "execution_count": 5,
   "metadata": {},
   "outputs": [
    {
     "data": {
      "text/plain": [
       "(39177, 35)"
      ]
     },
     "execution_count": 5,
     "metadata": {},
     "output_type": "execute_result"
    }
   ],
   "source": [
    "df_filtered = df[df['ddG'].notnull()]\n",
    "\n",
    "df_filtered.shape"
   ]
  },
  {
   "cell_type": "code",
   "execution_count": 12,
   "metadata": {},
   "outputs": [
    {
     "data": {
      "text/html": [
       "<div>\n",
       "<style scoped>\n",
       "    .dataframe tbody tr th:only-of-type {\n",
       "        vertical-align: middle;\n",
       "    }\n",
       "\n",
       "    .dataframe tbody tr th {\n",
       "        vertical-align: top;\n",
       "    }\n",
       "\n",
       "    .dataframe thead th {\n",
       "        text-align: right;\n",
       "    }\n",
       "</style>\n",
       "<table border=\"1\" class=\"dataframe\">\n",
       "  <thead>\n",
       "    <tr style=\"text-align: right;\">\n",
       "      <th></th>\n",
       "      <th>protein_name</th>\n",
       "      <th>count</th>\n",
       "    </tr>\n",
       "  </thead>\n",
       "  <tbody>\n",
       "    <tr>\n",
       "      <th>0</th>\n",
       "      <td>Subtilisin-chymotrypsin inhibitor-2A</td>\n",
       "      <td>11160</td>\n",
       "    </tr>\n",
       "    <tr>\n",
       "      <th>1</th>\n",
       "      <td>Immunoglobulin G-binding protein G</td>\n",
       "      <td>2158</td>\n",
       "    </tr>\n",
       "    <tr>\n",
       "      <th>2</th>\n",
       "      <td>Tryptophan synthase alpha chain</td>\n",
       "      <td>1915</td>\n",
       "    </tr>\n",
       "    <tr>\n",
       "      <th>3</th>\n",
       "      <td>Thermonuclease</td>\n",
       "      <td>1857</td>\n",
       "    </tr>\n",
       "    <tr>\n",
       "      <th>4</th>\n",
       "      <td>10 kDa chaperonin</td>\n",
       "      <td>1764</td>\n",
       "    </tr>\n",
       "    <tr>\n",
       "      <th>...</th>\n",
       "      <td>...</td>\n",
       "      <td>...</td>\n",
       "    </tr>\n",
       "    <tr>\n",
       "      <th>154</th>\n",
       "      <td>Non-specific lipid-transfer protein</td>\n",
       "      <td>1</td>\n",
       "    </tr>\n",
       "    <tr>\n",
       "      <th>155</th>\n",
       "      <td>Tetracycline repressor protein class D</td>\n",
       "      <td>1</td>\n",
       "    </tr>\n",
       "    <tr>\n",
       "      <th>156</th>\n",
       "      <td>Alpha-amylase</td>\n",
       "      <td>1</td>\n",
       "    </tr>\n",
       "    <tr>\n",
       "      <th>157</th>\n",
       "      <td>Ferredoxin, heterocyst</td>\n",
       "      <td>1</td>\n",
       "    </tr>\n",
       "    <tr>\n",
       "      <th>158</th>\n",
       "      <td>High-potential iron-sulfur protein isozyme I</td>\n",
       "      <td>1</td>\n",
       "    </tr>\n",
       "  </tbody>\n",
       "</table>\n",
       "<p>159 rows × 2 columns</p>\n",
       "</div>"
      ],
      "text/plain": [
       "                                     protein_name  count\n",
       "0            Subtilisin-chymotrypsin inhibitor-2A  11160\n",
       "1              Immunoglobulin G-binding protein G   2158\n",
       "2                 Tryptophan synthase alpha chain   1915\n",
       "3                                  Thermonuclease   1857\n",
       "4                               10 kDa chaperonin   1764\n",
       "..                                            ...    ...\n",
       "154           Non-specific lipid-transfer protein      1\n",
       "155        Tetracycline repressor protein class D      1\n",
       "156                                 Alpha-amylase      1\n",
       "157                        Ferredoxin, heterocyst      1\n",
       "158  High-potential iron-sulfur protein isozyme I      1\n",
       "\n",
       "[159 rows x 2 columns]"
      ]
     },
     "execution_count": 12,
     "metadata": {},
     "output_type": "execute_result"
    }
   ],
   "source": [
    "protein_counts = df_filtered[\"protein_name\"].value_counts().reset_index()\n",
    "protein_counts"
   ]
  }
 ],
 "metadata": {
  "kernelspec": {
   "display_name": "venv",
   "language": "python",
   "name": "python3"
  },
  "language_info": {
   "codemirror_mode": {
    "name": "ipython",
    "version": 3
   },
   "file_extension": ".py",
   "mimetype": "text/x-python",
   "name": "python",
   "nbconvert_exporter": "python",
   "pygments_lexer": "ipython3",
   "version": "3.13.0"
  }
 },
 "nbformat": 4,
 "nbformat_minor": 2
}
