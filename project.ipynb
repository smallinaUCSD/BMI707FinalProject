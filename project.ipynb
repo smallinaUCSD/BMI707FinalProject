{
 "cells": [
  {
   "cell_type": "code",
   "execution_count": 2,
   "metadata": {},
   "outputs": [
    {
     "name": "stdout",
     "output_type": "stream",
     "text": [
      "  experiment_id             protein_name uniprot_id pdb_id chain  position  \\\n",
      "0      LL000001  Haloalkane dehalogenase     P59336   1CQW     A       245   \n",
      "1      LL000002  Haloalkane dehalogenase     P59336   1CQW     A        95   \n",
      "2      LL000004  Haloalkane dehalogenase     P59336   1CQW     A       176   \n",
      "3      LL000005  Haloalkane dehalogenase     P59336   1CQW     A       171   \n",
      "4      LL000006  Haloalkane dehalogenase     P59336   1CQW     A       148   \n",
      "\n",
      "  wild_type mutation  ddG  dTm  ...  technique  technique_details  pH    tm  \\\n",
      "0         V        L  NaN  2.1  ...        NaN                NaN NaN  52.5   \n",
      "1         L        V  NaN -0.4  ...        NaN                NaN NaN  50.0   \n",
      "2         C        F  NaN  5.2  ...        NaN                NaN NaN  55.6   \n",
      "3         G        Q  NaN  3.1  ...        NaN                NaN NaN  53.5   \n",
      "4         T        L  NaN  1.1  ...        NaN                NaN NaN  51.5   \n",
      "\n",
      "   notes  publication_doi  publication_pubmed  hsw_job_id datasets  \\\n",
      "0    NaN              NaN                 NaN      xfyu58      NaN   \n",
      "1    NaN              NaN                 NaN      xfyu58      NaN   \n",
      "2    NaN              NaN                 NaN      xfyu58      NaN   \n",
      "3    NaN              NaN                 NaN      xfyu58      NaN   \n",
      "4    NaN              NaN                 NaN      xfyu58      NaN   \n",
      "\n",
      "                                            sequence  \n",
      "0  MSEIGTGFPFDPHYVEVLGERMHYVDVGPRDGTPVLFLHGNPTSSY...  \n",
      "1  MSEIGTGFPFDPHYVEVLGERMHYVDVGPRDGTPVLFLHGNPTSSY...  \n",
      "2  MSEIGTGFPFDPHYVEVLGERMHYVDVGPRDGTPVLFLHGNPTSSY...  \n",
      "3  MSEIGTGFPFDPHYVEVLGERMHYVDVGPRDGTPVLFLHGNPTSSY...  \n",
      "4  MSEIGTGFPFDPHYVEVLGERMHYVDVGPRDGTPVLFLHGNPTSSY...  \n",
      "\n",
      "[5 rows x 35 columns]\n",
      "Index(['experiment_id', 'protein_name', 'uniprot_id', 'pdb_id', 'chain',\n",
      "       'position', 'wild_type', 'mutation', 'ddG', 'dTm', 'is_curated', 'type',\n",
      "       'derived_type', 'interpro_families', 'conservation', 'is_essential',\n",
      "       'correlated_positions', 'is_back_to_consensus', 'secondary_structure',\n",
      "       'asa', 'is_in_catalytic_pocket', 'is_in_tunnel_bottleneck', 'b_factor',\n",
      "       'method', 'method_details', 'technique', 'technique_details', 'pH',\n",
      "       'tm', 'notes', 'publication_doi', 'publication_pubmed', 'hsw_job_id',\n",
      "       'datasets', 'sequence'],\n",
      "      dtype='object')\n"
     ]
    },
    {
     "name": "stderr",
     "output_type": "stream",
     "text": [
      "/var/folders/kw/st1ymrwj7q923cvxxbj099fh0000gn/T/ipykernel_44202/2567037678.py:4: DtypeWarning: Columns (23,24,25,26,29) have mixed types. Specify dtype option on import or set low_memory=False.\n",
      "  df = pd.read_csv(\"data/fireprotdb_results.csv\")\n"
     ]
    }
   ],
   "source": [
    "import pandas as pd\n",
    "\n",
    "# Load the dataset (change path if needed)\n",
    "df = pd.read_csv(\"data/fireprotdb_results.csv\")\n",
    "\n",
    "# Preview the data\n",
    "print(df.head())\n",
    "print(df.columns)"
   ]
  },
  {
   "cell_type": "code",
   "execution_count": 4,
   "metadata": {},
   "outputs": [
    {
     "name": "stdout",
     "output_type": "stream",
     "text": [
      "Downloading PDB structure '1cqw'...\n",
      "Chain: A\n"
     ]
    }
   ],
   "source": [
    "from Bio.PDB import PDBList, PDBParser\n",
    "\n",
    "# Download structure from RCSB\n",
    "pdb_id = \"1CQW\"  # example: replace with actual PDB ID\n",
    "pdbl = PDBList()\n",
    "pdbl.retrieve_pdb_file(pdb_id, file_format=\"pdb\", pdir=\"./structures\")\n",
    "\n",
    "# Parse the structure\n",
    "parser = PDBParser()\n",
    "structure = parser.get_structure(pdb_id, f\"./structures/pdb{pdb_id.lower()}.ent\")\n",
    "\n",
    "# Print chain IDs\n",
    "for model in structure:\n",
    "    for chain in model:\n",
    "        print(\"Chain:\", chain.id)"
   ]
  },
  {
   "cell_type": "code",
   "execution_count": null,
   "metadata": {},
   "outputs": [],
   "source": []
  }
 ],
 "metadata": {
  "kernelspec": {
   "display_name": "venv",
   "language": "python",
   "name": "python3"
  },
  "language_info": {
   "codemirror_mode": {
    "name": "ipython",
    "version": 3
   },
   "file_extension": ".py",
   "mimetype": "text/x-python",
   "name": "python",
   "nbconvert_exporter": "python",
   "pygments_lexer": "ipython3",
   "version": "3.13.0"
  }
 },
 "nbformat": 4,
 "nbformat_minor": 2
}
